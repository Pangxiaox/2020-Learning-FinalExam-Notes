{
 "cells": [
  {
   "cell_type": "markdown",
   "metadata": {},
   "source": [
    "# Chapter 7. Your First Image Classifier"
   ]
  },
  {
   "cell_type": "code",
   "execution_count": null,
   "metadata": {},
   "outputs": [],
   "source": []
  },
  {
   "cell_type": "code",
   "execution_count": 1,
   "metadata": {},
   "outputs": [],
   "source": [
    "import cv2"
   ]
  },
  {
   "cell_type": "code",
   "execution_count": 2,
   "metadata": {},
   "outputs": [],
   "source": [
    "class SimplePreprocessor:\n",
    "    def __init__(self, width, height, inter=cv2.INTER_AREA):\n",
    "        self.width = width\n",
    "        self.height = height\n",
    "        self.inter = inter\n",
    "    def preprocess(self, image):\n",
    "        return cv2.resize(image, (self.width, self.height),interpolation=self.inter) \n",
    "# cv2.INTER_AREA 用于收缩，cv2.INTER_CUBIC（慢）和 cv2.INTER_LINEAR 用于放大。"
   ]
  },
  {
   "cell_type": "code",
   "execution_count": 3,
   "metadata": {},
   "outputs": [],
   "source": [
    "import numpy as np\n",
    "import os\n",
    "class SimpleDatasetLoader:\n",
    "    def __init__(self, preprocessors=None):\n",
    "        self.preprocessors = preprocessors\n",
    "        if self.preprocessors is None:\n",
    "            self.preprocessors = []\n",
    "\n",
    "    def load(self, imagePaths, verbose=-1):\n",
    "        data = []\n",
    "        labels = []\n",
    "        count=0\n",
    "        for (i, imagePath) in enumerate(imagePaths):\n",
    "            image = cv2.imread(imagePath)\n",
    "            label = imagePath.split(os.path.sep)[-2]   #/dataset_name/class/image.jpg\n",
    "            if self.preprocessors is not None:\n",
    "                for p in self.preprocessors:\n",
    "                    if image is None:\n",
    "                        os.remove(imagePath)\n",
    "                        continue\n",
    "                    image = p.preprocess(image)\n",
    "                data.append(image)\n",
    "                labels.append(label)\n",
    "            if verbose > 0 and i > 0 and (i + 1) % verbose == 0:\n",
    "                print(\"[INFO] processed {}/{}\".format(i + 1,\n",
    "                    len(imagePaths)))\n",
    "        return (np.array(data), np.array(labels))"
   ]
  },
  {
   "cell_type": "code",
   "execution_count": null,
   "metadata": {},
   "outputs": [],
   "source": [
    "\n"
   ]
  },
  {
   "cell_type": "code",
   "execution_count": 4,
   "metadata": {},
   "outputs": [],
   "source": [
    "dirdata='D:/mxnet/datasets/animals'\n",
    "from imutils import paths\n",
    "# imagePaths = list(paths.list_images(args[\"dataset\"]))\n",
    "imagePaths = list(paths.list_images(dirdata))"
   ]
  },
  {
   "cell_type": "code",
   "execution_count": 5,
   "metadata": {},
   "outputs": [
    {
     "name": "stdout",
     "output_type": "stream",
     "text": [
      "3870\n"
     ]
    }
   ],
   "source": [
    "print(len(imagePaths))"
   ]
  },
  {
   "cell_type": "code",
   "execution_count": 6,
   "metadata": {},
   "outputs": [
    {
     "data": {
      "text/plain": [
       "['D:/mxnet/datasets/animals\\\\cat\\\\0.jpg',\n",
       " 'D:/mxnet/datasets/animals\\\\cat\\\\1.jpg',\n",
       " 'D:/mxnet/datasets/animals\\\\cat\\\\10.jpg',\n",
       " 'D:/mxnet/datasets/animals\\\\cat\\\\100.jpg',\n",
       " 'D:/mxnet/datasets/animals\\\\cat\\\\1000.jpg',\n",
       " 'D:/mxnet/datasets/animals\\\\cat\\\\1001.jpg',\n",
       " 'D:/mxnet/datasets/animals\\\\cat\\\\1002.jpg',\n",
       " 'D:/mxnet/datasets/animals\\\\cat\\\\1003.jpg',\n",
       " 'D:/mxnet/datasets/animals\\\\cat\\\\1004.jpg',\n",
       " 'D:/mxnet/datasets/animals\\\\cat\\\\1005.jpg']"
      ]
     },
     "execution_count": 6,
     "metadata": {},
     "output_type": "execute_result"
    }
   ],
   "source": [
    "imagePaths[:10]"
   ]
  },
  {
   "cell_type": "code",
   "execution_count": 7,
   "metadata": {},
   "outputs": [
    {
     "data": {
      "text/plain": [
       "['D:/mxnet/datasets/animals\\\\dog\\\\10427.jpg',\n",
       " 'D:/mxnet/datasets/animals\\\\dog\\\\10428.jpg',\n",
       " 'D:/mxnet/datasets/animals\\\\dog\\\\10429.jpg',\n",
       " 'D:/mxnet/datasets/animals\\\\dog\\\\1043.jpg',\n",
       " 'D:/mxnet/datasets/animals\\\\dog\\\\10430.jpg',\n",
       " 'D:/mxnet/datasets/animals\\\\dog\\\\10431.jpg',\n",
       " 'D:/mxnet/datasets/animals\\\\dog\\\\10432.jpg',\n",
       " 'D:/mxnet/datasets/animals\\\\dog\\\\10433.jpg',\n",
       " 'D:/mxnet/datasets/animals\\\\dog\\\\10434.jpg',\n",
       " 'D:/mxnet/datasets/animals\\\\dog\\\\10435.jpg']"
      ]
     },
     "execution_count": 7,
     "metadata": {},
     "output_type": "execute_result"
    }
   ],
   "source": [
    "imagePaths[1500:1510]"
   ]
  },
  {
   "cell_type": "code",
   "execution_count": 8,
   "metadata": {},
   "outputs": [
    {
     "data": {
      "text/plain": [
       "['D:/mxnet/datasets/animals\\\\panda\\\\n02510455_24.JPEG',\n",
       " 'D:/mxnet/datasets/animals\\\\panda\\\\n02510455_240.JPEG',\n",
       " 'D:/mxnet/datasets/animals\\\\panda\\\\n02510455_2440.JPEG',\n",
       " 'D:/mxnet/datasets/animals\\\\panda\\\\n02510455_2449.JPEG',\n",
       " 'D:/mxnet/datasets/animals\\\\panda\\\\n02510455_245.JPEG',\n",
       " 'D:/mxnet/datasets/animals\\\\panda\\\\n02510455_2453.JPEG',\n",
       " 'D:/mxnet/datasets/animals\\\\panda\\\\n02510455_2459.JPEG',\n",
       " 'D:/mxnet/datasets/animals\\\\panda\\\\n02510455_2465.JPEG',\n",
       " 'D:/mxnet/datasets/animals\\\\panda\\\\n02510455_2476.JPEG',\n",
       " 'D:/mxnet/datasets/animals\\\\panda\\\\n02510455_2495.JPEG']"
      ]
     },
     "execution_count": 8,
     "metadata": {},
     "output_type": "execute_result"
    }
   ],
   "source": [
    "imagePaths[3000:3010]"
   ]
  },
  {
   "cell_type": "code",
   "execution_count": 9,
   "metadata": {},
   "outputs": [],
   "source": [
    "sp = SimplePreprocessor(32, 32)\n",
    "sdl = SimpleDatasetLoader(preprocessors=[sp])"
   ]
  },
  {
   "cell_type": "code",
   "execution_count": 11,
   "metadata": {},
   "outputs": [
    {
     "name": "stdout",
     "output_type": "stream",
     "text": [
      "[INFO] processed 500/3870\n",
      "[INFO] processed 1000/3870\n",
      "[INFO] processed 1500/3870\n",
      "[INFO] processed 2000/3870\n",
      "[INFO] processed 2500/3870\n",
      "[INFO] processed 3000/3870\n",
      "[INFO] processed 3500/3870\n"
     ]
    }
   ],
   "source": [
    "(data, labels) = sdl.load(imagePaths, verbose=500)"
   ]
  },
  {
   "cell_type": "code",
   "execution_count": 12,
   "metadata": {},
   "outputs": [
    {
     "name": "stdout",
     "output_type": "stream",
     "text": [
      "3870 3870\n"
     ]
    }
   ],
   "source": [
    "print(len(data),len(labels))"
   ]
  },
  {
   "cell_type": "code",
   "execution_count": 15,
   "metadata": {},
   "outputs": [
    {
     "name": "stdout",
     "output_type": "stream",
     "text": [
      "(3870, 32, 32, 3) (3870,)\n"
     ]
    }
   ],
   "source": [
    "print(data.shape,labels.shape)"
   ]
  },
  {
   "cell_type": "code",
   "execution_count": 16,
   "metadata": {},
   "outputs": [
    {
     "data": {
      "text/plain": [
       "3072"
      ]
     },
     "execution_count": 16,
     "metadata": {},
     "output_type": "execute_result"
    }
   ],
   "source": [
    "32*32*3"
   ]
  },
  {
   "cell_type": "code",
   "execution_count": 17,
   "metadata": {},
   "outputs": [],
   "source": [
    "data = data.reshape((data.shape[0], 3072))"
   ]
  },
  {
   "cell_type": "code",
   "execution_count": 18,
   "metadata": {},
   "outputs": [
    {
     "data": {
      "text/plain": [
       "(3870, 3072)"
      ]
     },
     "execution_count": 18,
     "metadata": {},
     "output_type": "execute_result"
    }
   ],
   "source": [
    "data.shape"
   ]
  },
  {
   "cell_type": "code",
   "execution_count": 19,
   "metadata": {},
   "outputs": [
    {
     "data": {
      "text/plain": [
       "11888640"
      ]
     },
     "execution_count": 19,
     "metadata": {},
     "output_type": "execute_result"
    }
   ],
   "source": [
    "data.nbytes"
   ]
  },
  {
   "cell_type": "code",
   "execution_count": 20,
   "metadata": {},
   "outputs": [
    {
     "name": "stdout",
     "output_type": "stream",
     "text": [
      "[INFO] features matrix: 11.6100MB\n"
     ]
    }
   ],
   "source": [
    "print(\"[INFO] features matrix: {:.4f}MB\".format(\n",
    "                        data.nbytes / (1024 * 1000.0)))"
   ]
  },
  {
   "cell_type": "code",
   "execution_count": 21,
   "metadata": {},
   "outputs": [],
   "source": [
    "from sklearn.preprocessing import LabelEncoder\n",
    "# LabelEncoder, a helper utility to convert labels represented as strings to integers\n",
    "# where there is one unique integer per class label (a common practice when applying machine\n",
    "# learning).\n",
    "le = LabelEncoder()"
   ]
  },
  {
   "cell_type": "code",
   "execution_count": 22,
   "metadata": {},
   "outputs": [
    {
     "data": {
      "text/plain": [
       "array(['cat', 'cat', 'cat', 'cat', 'cat'], dtype='<U5')"
      ]
     },
     "execution_count": 22,
     "metadata": {},
     "output_type": "execute_result"
    }
   ],
   "source": [
    "labels[:5]"
   ]
  },
  {
   "cell_type": "code",
   "execution_count": 23,
   "metadata": {},
   "outputs": [],
   "source": [
    "labels = le.fit_transform(labels)"
   ]
  },
  {
   "cell_type": "code",
   "execution_count": 24,
   "metadata": {},
   "outputs": [
    {
     "data": {
      "text/plain": [
       "array([0, 0, 0, 0, 0], dtype=int64)"
      ]
     },
     "execution_count": 24,
     "metadata": {},
     "output_type": "execute_result"
    }
   ],
   "source": [
    "labels[:5]"
   ]
  },
  {
   "cell_type": "code",
   "execution_count": 25,
   "metadata": {},
   "outputs": [],
   "source": [
    "from sklearn.model_selection import train_test_split\n",
    "(trainX, testX, trainY, testY) = train_test_split(data, labels,\n",
    "            test_size = 0.25, random_state = 42)"
   ]
  },
  {
   "cell_type": "code",
   "execution_count": 26,
   "metadata": {},
   "outputs": [
    {
     "name": "stdout",
     "output_type": "stream",
     "text": [
      "[INFO] evaluating k-NN classifier...\n"
     ]
    }
   ],
   "source": [
    "print(\"[INFO] evaluating k-NN classifier...\")"
   ]
  },
  {
   "cell_type": "code",
   "execution_count": 27,
   "metadata": {},
   "outputs": [],
   "source": [
    "from sklearn.neighbors import KNeighborsClassifier\n",
    "# model = KNeighborsClassifier(n_neighbors=args[\"neighbors\"],\n",
    "#     n_jobs = args[\"jobs\"])\n",
    "model = KNeighborsClassifier(n_neighbors=1,\n",
    "    n_jobs = -1)"
   ]
  },
  {
   "cell_type": "code",
   "execution_count": 28,
   "metadata": {},
   "outputs": [
    {
     "data": {
      "text/plain": [
       "KNeighborsClassifier(algorithm='auto', leaf_size=30, metric='minkowski',\n",
       "                     metric_params=None, n_jobs=-1, n_neighbors=1, p=2,\n",
       "                     weights='uniform')"
      ]
     },
     "execution_count": 28,
     "metadata": {},
     "output_type": "execute_result"
    }
   ],
   "source": [
    "model.fit(trainX, trainY)"
   ]
  },
  {
   "cell_type": "code",
   "execution_count": 29,
   "metadata": {},
   "outputs": [
    {
     "name": "stdout",
     "output_type": "stream",
     "text": [
      "              precision    recall  f1-score   support\n",
      "\n",
      "         cat       0.34      0.45      0.39       268\n",
      "         dog       0.47      0.56      0.51       381\n",
      "       panda       0.80      0.42      0.55       319\n",
      "\n",
      "    accuracy                           0.48       968\n",
      "   macro avg       0.54      0.48      0.48       968\n",
      "weighted avg       0.55      0.48      0.49       968\n",
      "\n"
     ]
    }
   ],
   "source": [
    "from sklearn.metrics import classification_report\n",
    "print(classification_report(testY, model.predict(testX),\n",
    "    target_names = le.classes_))"
   ]
  },
  {
   "cell_type": "code",
   "execution_count": null,
   "metadata": {},
   "outputs": [],
   "source": []
  },
  {
   "cell_type": "code",
   "execution_count": null,
   "metadata": {},
   "outputs": [],
   "source": []
  },
  {
   "cell_type": "code",
   "execution_count": null,
   "metadata": {},
   "outputs": [],
   "source": []
  },
  {
   "cell_type": "code",
   "execution_count": null,
   "metadata": {},
   "outputs": [],
   "source": []
  }
 ],
 "metadata": {
  "kernelspec": {
   "display_name": "mxnet",
   "language": "python",
   "name": "mxnet"
  },
  "language_info": {
   "codemirror_mode": {
    "name": "ipython",
    "version": 3
   },
   "file_extension": ".py",
   "mimetype": "text/x-python",
   "name": "python",
   "nbconvert_exporter": "python",
   "pygments_lexer": "ipython3",
   "version": "3.7.6"
  }
 },
 "nbformat": 4,
 "nbformat_minor": 4
}
