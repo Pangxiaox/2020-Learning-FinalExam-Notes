{
 "cells": [
  {
   "cell_type": "markdown",
   "metadata": {},
   "source": [
    "# Deep Learning for Computer Vision with Python\n",
    "# 12. Training Your First CNN"
   ]
  },
  {
   "cell_type": "code",
   "execution_count": 1,
   "metadata": {},
   "outputs": [
    {
     "name": "stderr",
     "output_type": "stream",
     "text": [
      "Using TensorFlow backend.\n"
     ]
    }
   ],
   "source": [
    "from keras.preprocessing.image import img_to_array\n",
    "import cv2,os\n",
    "import numpy as np"
   ]
  },
  {
   "cell_type": "code",
   "execution_count": 2,
   "metadata": {},
   "outputs": [],
   "source": [
    "class ImageToArrayPreprocessor:\n",
    "    def __init__(self, dataFormat=None):\n",
    "        self.dataFormat = dataFormat\n",
    "\n",
    "    def preprocess(self, image):\n",
    "        return img_to_array(image, data_format=self.dataFormat)"
   ]
  },
  {
   "cell_type": "code",
   "execution_count": 3,
   "metadata": {},
   "outputs": [],
   "source": [
    "class SimplePreprocessor:\n",
    "    def __init__(self, width, height, inter=cv2.INTER_AREA):\n",
    "        self.width = width\n",
    "        self.height = height\n",
    "        self.inter = inter\n",
    "    def preprocess(self, image):\n",
    "        return cv2.resize(image, (self.width, self.height),interpolation=self.inter) "
   ]
  },
  {
   "cell_type": "code",
   "execution_count": 4,
   "metadata": {},
   "outputs": [],
   "source": [
    "class SimpleDatasetLoader:\n",
    "    def __init__(self, preprocessors=None):\n",
    "        self.preprocessors = preprocessors\n",
    "        if self.preprocessors is None:\n",
    "            self.preprocessors = []\n",
    "\n",
    "    def load(self, imagePaths, verbose=-1):\n",
    "        data = []\n",
    "        labels = []\n",
    "        count=0\n",
    "        for (i, imagePath) in enumerate(imagePaths):\n",
    "            image = cv2.imread(imagePath)\n",
    "            label = imagePath.split(os.path.sep)[-2]   #/dataset_name/class/image.jpg\n",
    "            if self.preprocessors is not None:\n",
    "                for p in self.preprocessors:\n",
    "                    if image is None:\n",
    "                        os.remove(imagePath)\n",
    "                        continue\n",
    "                    image = p.preprocess(image)\n",
    "                data.append(image)\n",
    "                labels.append(label)\n",
    "            if verbose > 0 and i > 0 and (i + 1) % verbose == 0:\n",
    "                print(\"[INFO] processed {}/{}\".format(i + 1,\n",
    "                    len(imagePaths)))\n",
    "        return (np.array(data), np.array(labels))"
   ]
  },
  {
   "cell_type": "code",
   "execution_count": 5,
   "metadata": {},
   "outputs": [],
   "source": [
    "sp = SimplePreprocessor(32, 32)"
   ]
  },
  {
   "cell_type": "code",
   "execution_count": 6,
   "metadata": {},
   "outputs": [],
   "source": [
    "iap = ImageToArrayPreprocessor()"
   ]
  },
  {
   "cell_type": "code",
   "execution_count": 7,
   "metadata": {},
   "outputs": [],
   "source": [
    "sdl = SimpleDatasetLoader(preprocessors=[sp, iap])"
   ]
  },
  {
   "cell_type": "code",
   "execution_count": 8,
   "metadata": {},
   "outputs": [],
   "source": [
    "from imutils import paths"
   ]
  },
  {
   "cell_type": "code",
   "execution_count": 9,
   "metadata": {},
   "outputs": [],
   "source": [
    "data_dir='D:\\\\mxnet\\\\datasets\\\\animals'\n",
    "imagePaths = list(paths.list_images(data_dir))"
   ]
  },
  {
   "cell_type": "code",
   "execution_count": 10,
   "metadata": {},
   "outputs": [
    {
     "name": "stdout",
     "output_type": "stream",
     "text": [
      "[INFO] processed 500/3870\n",
      "[INFO] processed 1000/3870\n",
      "[INFO] processed 1500/3870\n",
      "[INFO] processed 2000/3870\n",
      "[INFO] processed 2500/3870\n",
      "[INFO] processed 3000/3870\n",
      "[INFO] processed 3500/3870\n"
     ]
    }
   ],
   "source": [
    "(data, labels) = sdl.load(imagePaths, verbose=500)"
   ]
  },
  {
   "cell_type": "code",
   "execution_count": null,
   "metadata": {},
   "outputs": [],
   "source": []
  },
  {
   "cell_type": "code",
   "execution_count": 11,
   "metadata": {},
   "outputs": [],
   "source": [
    "from keras.layers.convolutional import Conv2D\n",
    "from keras.layers.core import Activation\n",
    "from keras.layers.core import Flatten\n",
    "from keras.layers.core import Dense\n",
    "from keras import backend as K"
   ]
  },
  {
   "cell_type": "code",
   "execution_count": 12,
   "metadata": {},
   "outputs": [],
   "source": [
    "class ShallowNet:\n",
    "    @staticmethod\n",
    "    def build(width, height, depth, classes):\n",
    "        model = Sequential()\n",
    "        inputShape = (height, width, depth)\n",
    "        if K.image_data_format() == \"channels_first\":\n",
    "            inputShape = (depth, height, width)\n",
    "        model.add(Conv2D(32, (3, 3), padding=\"same\",\n",
    "        input_shape = inputShape))\n",
    "        model.add(Activation(\"relu\"))\n",
    "        model.add(Flatten())\n",
    "        model.add(Dense(classes))\n",
    "        model.add(Activation(\"softmax\"))\n",
    "        return model"
   ]
  },
  {
   "cell_type": "code",
   "execution_count": 13,
   "metadata": {},
   "outputs": [],
   "source": [
    "from sklearn.preprocessing import LabelBinarizer\n",
    "from sklearn.model_selection import train_test_split\n",
    "from sklearn.metrics import classification_report\n",
    "from keras.optimizers import SGD\n",
    "from imutils import paths\n",
    "import matplotlib.pyplot as plt"
   ]
  },
  {
   "cell_type": "code",
   "execution_count": 14,
   "metadata": {},
   "outputs": [
    {
     "name": "stdout",
     "output_type": "stream",
     "text": [
      "[INFO] loading images...\n"
     ]
    }
   ],
   "source": [
    "print(\"[INFO] loading images...\")\n",
    "data_dir='D:\\\\mxnet\\\\datasets\\\\animals'\n",
    "imagePaths = list(paths.list_images(data_dir))"
   ]
  },
  {
   "cell_type": "code",
   "execution_count": 15,
   "metadata": {},
   "outputs": [
    {
     "name": "stdout",
     "output_type": "stream",
     "text": [
      "[INFO] processed 500/3870\n",
      "[INFO] processed 1000/3870\n",
      "[INFO] processed 1500/3870\n",
      "[INFO] processed 2000/3870\n",
      "[INFO] processed 2500/3870\n",
      "[INFO] processed 3000/3870\n",
      "[INFO] processed 3500/3870\n"
     ]
    }
   ],
   "source": [
    "sp = SimplePreprocessor(32, 32)\n",
    "iap = ImageToArrayPreprocessor()\n",
    "sdl = SimpleDatasetLoader(preprocessors=[sp, iap])\n",
    "(data, labels) = sdl.load(imagePaths, verbose=500)"
   ]
  },
  {
   "cell_type": "code",
   "execution_count": 17,
   "metadata": {},
   "outputs": [],
   "source": [
    "data = data.astype(\"float\") / 255.0\n",
    "(trainX, testX, trainY, testY) = train_test_split(data, labels,\n",
    "        test_size = 0.25, random_state = 42)\n",
    "trainY = LabelBinarizer().fit_transform(trainY)\n",
    "testY = LabelBinarizer().fit_transform(testY)"
   ]
  },
  {
   "cell_type": "code",
   "execution_count": 19,
   "metadata": {},
   "outputs": [],
   "source": [
    "from keras.models import Sequential"
   ]
  },
  {
   "cell_type": "code",
   "execution_count": 20,
   "metadata": {},
   "outputs": [
    {
     "name": "stdout",
     "output_type": "stream",
     "text": [
      "[INFO] compiling model...\n",
      "[INFO] training network...\n",
      "WARNING:tensorflow:From D:\\install\\Anaconda\\envs\\mxnet\\lib\\site-packages\\keras\\backend\\tensorflow_backend.py:422: The name tf.global_variables is deprecated. Please use tf.compat.v1.global_variables instead.\n",
      "\n",
      "Train on 2902 samples, validate on 968 samples\n",
      "Epoch 1/100\n",
      "2902/2902 [==============================] - 3s 920us/step - loss: 0.9855 - accuracy: 0.5093 - val_loss: 0.9075 - val_accuracy: 0.5702\n",
      "Epoch 2/100\n",
      "2902/2902 [==============================] - 2s 590us/step - loss: 0.8897 - accuracy: 0.5720 - val_loss: 0.8975 - val_accuracy: 0.5403\n",
      "Epoch 3/100\n",
      "2902/2902 [==============================] - 2s 590us/step - loss: 0.8518 - accuracy: 0.5975 - val_loss: 0.8969 - val_accuracy: 0.5393\n",
      "Epoch 4/100\n",
      "2902/2902 [==============================] - 2s 601us/step - loss: 0.8185 - accuracy: 0.6068 - val_loss: 0.8570 - val_accuracy: 0.5444\n",
      "Epoch 5/100\n",
      "2902/2902 [==============================] - 2s 658us/step - loss: 0.7953 - accuracy: 0.6151 - val_loss: 0.8716 - val_accuracy: 0.5486\n",
      "Epoch 6/100\n",
      "2902/2902 [==============================] - 2s 639us/step - loss: 0.7887 - accuracy: 0.6227 - val_loss: 0.8127 - val_accuracy: 0.6012\n",
      "Epoch 7/100\n",
      "2902/2902 [==============================] - 2s 604us/step - loss: 0.7747 - accuracy: 0.6330 - val_loss: 0.8166 - val_accuracy: 0.6033\n",
      "Epoch 8/100\n",
      "2902/2902 [==============================] - 2s 582us/step - loss: 0.7572 - accuracy: 0.6413 - val_loss: 0.8269 - val_accuracy: 0.6240\n",
      "Epoch 9/100\n",
      "2902/2902 [==============================] - 2s 616us/step - loss: 0.7468 - accuracy: 0.6506 - val_loss: 0.8178 - val_accuracy: 0.6012\n",
      "Epoch 10/100\n",
      "2902/2902 [==============================] - 2s 606us/step - loss: 0.7397 - accuracy: 0.6561 - val_loss: 0.8409 - val_accuracy: 0.5961\n",
      "Epoch 11/100\n",
      "2902/2902 [==============================] - 2s 622us/step - loss: 0.7356 - accuracy: 0.6420 - val_loss: 0.7885 - val_accuracy: 0.6188\n",
      "Epoch 12/100\n",
      "2902/2902 [==============================] - 2s 640us/step - loss: 0.7164 - accuracy: 0.6616 - val_loss: 0.7913 - val_accuracy: 0.6260\n",
      "Epoch 13/100\n",
      "2902/2902 [==============================] - 2s 617us/step - loss: 0.7140 - accuracy: 0.6647 - val_loss: 0.8047 - val_accuracy: 0.6260\n",
      "Epoch 14/100\n",
      "2902/2902 [==============================] - 2s 614us/step - loss: 0.7114 - accuracy: 0.6651 - val_loss: 0.8057 - val_accuracy: 0.6126\n",
      "Epoch 15/100\n",
      "2902/2902 [==============================] - 2s 609us/step - loss: 0.6950 - accuracy: 0.6730 - val_loss: 0.7708 - val_accuracy: 0.6302\n",
      "Epoch 16/100\n",
      "2902/2902 [==============================] - 2s 568us/step - loss: 0.6907 - accuracy: 0.6816 - val_loss: 0.7862 - val_accuracy: 0.6209\n",
      "Epoch 17/100\n",
      "2902/2902 [==============================] - 2s 588us/step - loss: 0.6786 - accuracy: 0.6833 - val_loss: 0.7764 - val_accuracy: 0.6281\n",
      "Epoch 18/100\n",
      "2902/2902 [==============================] - 2s 632us/step - loss: 0.6746 - accuracy: 0.6885 - val_loss: 0.7832 - val_accuracy: 0.6384\n",
      "Epoch 19/100\n",
      "2902/2902 [==============================] - 2s 606us/step - loss: 0.6683 - accuracy: 0.7006 - val_loss: 0.7586 - val_accuracy: 0.6312\n",
      "Epoch 20/100\n",
      "2902/2902 [==============================] - 2s 587us/step - loss: 0.6581 - accuracy: 0.7002 - val_loss: 0.7889 - val_accuracy: 0.6312\n",
      "Epoch 21/100\n",
      "2902/2902 [==============================] - 2s 616us/step - loss: 0.6536 - accuracy: 0.6992 - val_loss: 0.7677 - val_accuracy: 0.6281\n",
      "Epoch 22/100\n",
      "2902/2902 [==============================] - 2s 581us/step - loss: 0.6420 - accuracy: 0.7081 - val_loss: 0.7541 - val_accuracy: 0.6364\n",
      "Epoch 23/100\n",
      "2902/2902 [==============================] - 2s 578us/step - loss: 0.6411 - accuracy: 0.7185 - val_loss: 0.7642 - val_accuracy: 0.6281\n",
      "Epoch 24/100\n",
      "2902/2902 [==============================] - 2s 583us/step - loss: 0.6330 - accuracy: 0.7116 - val_loss: 0.7416 - val_accuracy: 0.6333\n",
      "Epoch 25/100\n",
      "2902/2902 [==============================] - 2s 589us/step - loss: 0.6262 - accuracy: 0.7161 - val_loss: 0.7441 - val_accuracy: 0.6333\n",
      "Epoch 26/100\n",
      "2902/2902 [==============================] - 2s 653us/step - loss: 0.6190 - accuracy: 0.7178 - val_loss: 0.7475 - val_accuracy: 0.6415\n",
      "Epoch 27/100\n",
      "2902/2902 [==============================] - 2s 655us/step - loss: 0.6079 - accuracy: 0.7309 - val_loss: 0.7835 - val_accuracy: 0.6033\n",
      "Epoch 28/100\n",
      "2902/2902 [==============================] - 2s 581us/step - loss: 0.6073 - accuracy: 0.7264 - val_loss: 0.7349 - val_accuracy: 0.6395\n",
      "Epoch 29/100\n",
      "2902/2902 [==============================] - 2s 671us/step - loss: 0.5974 - accuracy: 0.7298 - val_loss: 0.7364 - val_accuracy: 0.6550\n",
      "Epoch 30/100\n",
      "2902/2902 [==============================] - 2s 682us/step - loss: 0.5924 - accuracy: 0.7416 - val_loss: 0.7385 - val_accuracy: 0.6415\n",
      "Epoch 31/100\n",
      "2902/2902 [==============================] - 2s 643us/step - loss: 0.5870 - accuracy: 0.7416 - val_loss: 0.7325 - val_accuracy: 0.6498\n",
      "Epoch 32/100\n",
      "2902/2902 [==============================] - 2s 589us/step - loss: 0.5796 - accuracy: 0.7478 - val_loss: 0.7348 - val_accuracy: 0.6508\n",
      "Epoch 33/100\n",
      "2902/2902 [==============================] - 2s 652us/step - loss: 0.5748 - accuracy: 0.7564 - val_loss: 0.7478 - val_accuracy: 0.6302\n",
      "Epoch 34/100\n",
      "2902/2902 [==============================] - 2s 617us/step - loss: 0.5698 - accuracy: 0.7547 - val_loss: 0.7408 - val_accuracy: 0.6343\n",
      "Epoch 35/100\n",
      "2902/2902 [==============================] - 2s 672us/step - loss: 0.5625 - accuracy: 0.7605 - val_loss: 0.7195 - val_accuracy: 0.6560\n",
      "Epoch 36/100\n",
      "2902/2902 [==============================] - 2s 635us/step - loss: 0.5581 - accuracy: 0.7643 - val_loss: 0.7741 - val_accuracy: 0.6250\n",
      "Epoch 37/100\n",
      "2902/2902 [==============================] - 2s 660us/step - loss: 0.5541 - accuracy: 0.7660 - val_loss: 0.7194 - val_accuracy: 0.6550\n",
      "Epoch 38/100\n",
      "2902/2902 [==============================] - 2s 683us/step - loss: 0.5413 - accuracy: 0.7677 - val_loss: 0.7358 - val_accuracy: 0.6560\n",
      "Epoch 39/100\n",
      "2902/2902 [==============================] - 2s 656us/step - loss: 0.5388 - accuracy: 0.7764 - val_loss: 0.7178 - val_accuracy: 0.6643\n",
      "Epoch 40/100\n",
      "2902/2902 [==============================] - 2s 656us/step - loss: 0.5311 - accuracy: 0.7722 - val_loss: 0.7247 - val_accuracy: 0.6570\n",
      "Epoch 41/100\n",
      "2902/2902 [==============================] - 2s 655us/step - loss: 0.5283 - accuracy: 0.7753 - val_loss: 0.7067 - val_accuracy: 0.6787\n",
      "Epoch 42/100\n",
      "2902/2902 [==============================] - 2s 632us/step - loss: 0.5256 - accuracy: 0.7781 - val_loss: 0.7228 - val_accuracy: 0.6632\n",
      "Epoch 43/100\n",
      "2902/2902 [==============================] - 2s 660us/step - loss: 0.5263 - accuracy: 0.7808 - val_loss: 0.7161 - val_accuracy: 0.6725\n",
      "Epoch 44/100\n",
      "2902/2902 [==============================] - 2s 628us/step - loss: 0.5111 - accuracy: 0.7939 - val_loss: 0.7061 - val_accuracy: 0.6736\n",
      "Epoch 45/100\n",
      "2902/2902 [==============================] - 2s 661us/step - loss: 0.5100 - accuracy: 0.7936 - val_loss: 0.7171 - val_accuracy: 0.6715\n",
      "Epoch 46/100\n",
      "2902/2902 [==============================] - 2s 643us/step - loss: 0.5067 - accuracy: 0.7857 - val_loss: 0.7141 - val_accuracy: 0.6643\n",
      "Epoch 47/100\n",
      "2902/2902 [==============================] - 2s 655us/step - loss: 0.5006 - accuracy: 0.7853 - val_loss: 0.7081 - val_accuracy: 0.6725\n",
      "Epoch 48/100\n",
      "2902/2902 [==============================] - 2s 698us/step - loss: 0.4974 - accuracy: 0.7898 - val_loss: 0.8031 - val_accuracy: 0.6095\n",
      "Epoch 49/100\n",
      "2902/2902 [==============================] - 2s 748us/step - loss: 0.4958 - accuracy: 0.7915 - val_loss: 0.7379 - val_accuracy: 0.6705\n",
      "Epoch 50/100\n",
      "2902/2902 [==============================] - 2s 717us/step - loss: 0.4854 - accuracy: 0.8025 - val_loss: 0.7276 - val_accuracy: 0.6684\n",
      "Epoch 51/100\n",
      "2902/2902 [==============================] - 2s 649us/step - loss: 0.4862 - accuracy: 0.7950 - val_loss: 0.7248 - val_accuracy: 0.6632\n",
      "Epoch 52/100\n",
      "2902/2902 [==============================] - 2s 619us/step - loss: 0.4791 - accuracy: 0.8067 - val_loss: 0.7130 - val_accuracy: 0.6715\n",
      "Epoch 53/100\n",
      "2902/2902 [==============================] - 2s 616us/step - loss: 0.4768 - accuracy: 0.8070 - val_loss: 0.7268 - val_accuracy: 0.6684\n",
      "Epoch 54/100\n"
     ]
    },
    {
     "name": "stdout",
     "output_type": "stream",
     "text": [
      "2902/2902 [==============================] - 2s 607us/step - loss: 0.4689 - accuracy: 0.8136 - val_loss: 0.6965 - val_accuracy: 0.6849\n",
      "Epoch 55/100\n",
      "2902/2902 [==============================] - 2s 520us/step - loss: 0.4707 - accuracy: 0.8088 - val_loss: 0.7054 - val_accuracy: 0.6880\n",
      "Epoch 56/100\n",
      "2902/2902 [==============================] - 2s 539us/step - loss: 0.4610 - accuracy: 0.8170 - val_loss: 0.6961 - val_accuracy: 0.6932\n",
      "Epoch 57/100\n",
      "2902/2902 [==============================] - 2s 625us/step - loss: 0.4561 - accuracy: 0.8215 - val_loss: 0.6974 - val_accuracy: 0.6942\n",
      "Epoch 58/100\n",
      "2902/2902 [==============================] - 2s 747us/step - loss: 0.4529 - accuracy: 0.8125 - val_loss: 0.7162 - val_accuracy: 0.6746\n",
      "Epoch 59/100\n",
      "2902/2902 [==============================] - 2s 531us/step - loss: 0.4518 - accuracy: 0.8181 - val_loss: 0.6957 - val_accuracy: 0.6880\n",
      "Epoch 60/100\n",
      "2902/2902 [==============================] - 2s 576us/step - loss: 0.4489 - accuracy: 0.8187 - val_loss: 0.7335 - val_accuracy: 0.6663\n",
      "Epoch 61/100\n",
      "2902/2902 [==============================] - 2s 615us/step - loss: 0.4442 - accuracy: 0.8218 - val_loss: 0.7301 - val_accuracy: 0.6674\n",
      "Epoch 62/100\n",
      "2902/2902 [==============================] - 2s 563us/step - loss: 0.4408 - accuracy: 0.8232 - val_loss: 0.7010 - val_accuracy: 0.6705\n",
      "Epoch 63/100\n",
      "2902/2902 [==============================] - 2s 568us/step - loss: 0.4335 - accuracy: 0.8280 - val_loss: 0.7555 - val_accuracy: 0.6395\n",
      "Epoch 64/100\n",
      "2902/2902 [==============================] - 2s 619us/step - loss: 0.4323 - accuracy: 0.8332 - val_loss: 0.7274 - val_accuracy: 0.6818\n",
      "Epoch 65/100\n",
      "2902/2902 [==============================] - 2s 551us/step - loss: 0.4321 - accuracy: 0.8170 - val_loss: 0.7032 - val_accuracy: 0.6890\n",
      "Epoch 66/100\n",
      "2902/2902 [==============================] - 2s 664us/step - loss: 0.4239 - accuracy: 0.8346 - val_loss: 0.7171 - val_accuracy: 0.6684\n",
      "Epoch 67/100\n",
      "2902/2902 [==============================] - 2s 664us/step - loss: 0.4231 - accuracy: 0.8394 - val_loss: 0.7134 - val_accuracy: 0.6818\n",
      "Epoch 68/100\n",
      "2902/2902 [==============================] - 1s 478us/step - loss: 0.4107 - accuracy: 0.8439 - val_loss: 0.7009 - val_accuracy: 0.6849\n",
      "Epoch 69/100\n",
      "2902/2902 [==============================] - 2s 676us/step - loss: 0.4088 - accuracy: 0.8398 - val_loss: 0.7032 - val_accuracy: 0.6921\n",
      "Epoch 70/100\n",
      "2902/2902 [==============================] - 2s 771us/step - loss: 0.4103 - accuracy: 0.8442 - val_loss: 0.6994 - val_accuracy: 0.6890\n",
      "Epoch 71/100\n",
      "2902/2902 [==============================] - 2s 605us/step - loss: 0.4068 - accuracy: 0.8353 - val_loss: 0.7083 - val_accuracy: 0.6911\n",
      "Epoch 72/100\n",
      "2902/2902 [==============================] - 2s 536us/step - loss: 0.4052 - accuracy: 0.8401 - val_loss: 0.7036 - val_accuracy: 0.6870\n",
      "Epoch 73/100\n",
      "2902/2902 [==============================] - 2s 592us/step - loss: 0.3995 - accuracy: 0.8415 - val_loss: 0.7138 - val_accuracy: 0.6890\n",
      "Epoch 74/100\n",
      "2902/2902 [==============================] - 2s 684us/step - loss: 0.4013 - accuracy: 0.8425 - val_loss: 0.7386 - val_accuracy: 0.6560\n",
      "Epoch 75/100\n",
      "2902/2902 [==============================] - 2s 597us/step - loss: 0.3990 - accuracy: 0.8467 - val_loss: 0.6983 - val_accuracy: 0.6849\n",
      "Epoch 76/100\n",
      "2902/2902 [==============================] - 2s 779us/step - loss: 0.3906 - accuracy: 0.8525 - val_loss: 0.7137 - val_accuracy: 0.6829\n",
      "Epoch 77/100\n",
      "2902/2902 [==============================] - 2s 855us/step - loss: 0.3865 - accuracy: 0.8535 - val_loss: 0.6952 - val_accuracy: 0.7025\n",
      "Epoch 78/100\n",
      "2902/2902 [==============================] - 2s 761us/step - loss: 0.3810 - accuracy: 0.8525 - val_loss: 0.7212 - val_accuracy: 0.6890\n",
      "Epoch 79/100\n",
      "2902/2902 [==============================] - 2s 757us/step - loss: 0.3816 - accuracy: 0.8553 - val_loss: 0.7067 - val_accuracy: 0.6890\n",
      "Epoch 80/100\n",
      "2902/2902 [==============================] - 2s 632us/step - loss: 0.3791 - accuracy: 0.8532 - val_loss: 0.7140 - val_accuracy: 0.6870\n",
      "Epoch 81/100\n",
      "2902/2902 [==============================] - 2s 575us/step - loss: 0.3754 - accuracy: 0.8535 - val_loss: 0.7273 - val_accuracy: 0.6653\n",
      "Epoch 82/100\n",
      "2902/2902 [==============================] - 2s 692us/step - loss: 0.3697 - accuracy: 0.8625 - val_loss: 0.7135 - val_accuracy: 0.6849\n",
      "Epoch 83/100\n",
      "2902/2902 [==============================] - 2s 656us/step - loss: 0.3714 - accuracy: 0.8618 - val_loss: 0.7644 - val_accuracy: 0.6849\n",
      "Epoch 84/100\n",
      "2902/2902 [==============================] - 2s 640us/step - loss: 0.3634 - accuracy: 0.8701 - val_loss: 0.7283 - val_accuracy: 0.6808\n",
      "Epoch 85/100\n",
      "2902/2902 [==============================] - 2s 615us/step - loss: 0.3653 - accuracy: 0.8615 - val_loss: 0.7197 - val_accuracy: 0.6849\n",
      "Epoch 86/100\n",
      "2902/2902 [==============================] - 2s 668us/step - loss: 0.3560 - accuracy: 0.8677 - val_loss: 0.7251 - val_accuracy: 0.6684\n",
      "Epoch 87/100\n",
      "2902/2902 [==============================] - 2s 641us/step - loss: 0.3538 - accuracy: 0.8680 - val_loss: 0.7204 - val_accuracy: 0.6756\n",
      "Epoch 88/100\n",
      "2902/2902 [==============================] - 2s 633us/step - loss: 0.3539 - accuracy: 0.8708 - val_loss: 0.7070 - val_accuracy: 0.6942\n",
      "Epoch 89/100\n",
      "2902/2902 [==============================] - 2s 631us/step - loss: 0.3458 - accuracy: 0.8708 - val_loss: 0.7051 - val_accuracy: 0.6963\n",
      "Epoch 90/100\n",
      "2902/2902 [==============================] - 2s 618us/step - loss: 0.3447 - accuracy: 0.8687 - val_loss: 0.7152 - val_accuracy: 0.6736\n",
      "Epoch 91/100\n",
      "2902/2902 [==============================] - 2s 637us/step - loss: 0.3453 - accuracy: 0.8728 - val_loss: 0.7224 - val_accuracy: 0.6890\n",
      "Epoch 92/100\n",
      "2902/2902 [==============================] - 2s 639us/step - loss: 0.3407 - accuracy: 0.8722 - val_loss: 0.7217 - val_accuracy: 0.6849\n",
      "Epoch 93/100\n",
      "2902/2902 [==============================] - 2s 637us/step - loss: 0.3382 - accuracy: 0.8773 - val_loss: 0.7151 - val_accuracy: 0.6818\n",
      "Epoch 94/100\n",
      "2902/2902 [==============================] - 2s 694us/step - loss: 0.3328 - accuracy: 0.8870 - val_loss: 0.7164 - val_accuracy: 0.6911\n",
      "Epoch 95/100\n",
      "2902/2902 [==============================] - 2s 664us/step - loss: 0.3384 - accuracy: 0.8739 - val_loss: 0.7235 - val_accuracy: 0.6715\n",
      "Epoch 96/100\n",
      "2902/2902 [==============================] - 2s 670us/step - loss: 0.3309 - accuracy: 0.8825 - val_loss: 0.7291 - val_accuracy: 0.6911\n",
      "Epoch 97/100\n",
      "2902/2902 [==============================] - 2s 654us/step - loss: 0.3257 - accuracy: 0.8839 - val_loss: 0.7179 - val_accuracy: 0.6880\n",
      "Epoch 98/100\n",
      "2902/2902 [==============================] - 2s 649us/step - loss: 0.3266 - accuracy: 0.8842 - val_loss: 0.7355 - val_accuracy: 0.6911\n",
      "Epoch 99/100\n",
      "2902/2902 [==============================] - 2s 622us/step - loss: 0.3277 - accuracy: 0.8811 - val_loss: 0.7252 - val_accuracy: 0.6736\n",
      "Epoch 100/100\n",
      "2902/2902 [==============================] - 2s 658us/step - loss: 0.3194 - accuracy: 0.8863 - val_loss: 0.7898 - val_accuracy: 0.6622\n"
     ]
    }
   ],
   "source": [
    "print(\"[INFO] compiling model...\")\n",
    "opt = SGD(lr=0.005)\n",
    "model = ShallowNet.build(width=32, height=32, depth=3, classes=3)\n",
    "model.compile(loss=\"categorical_crossentropy\", optimizer=opt,\n",
    "metrics = [\"accuracy\"])\n",
    "print(\"[INFO] training network...\")\n",
    "H = model.fit(trainX, trainY, validation_data=(testX, testY),\n",
    "        batch_size = 32, epochs = 100, verbose = 1)"
   ]
  },
  {
   "cell_type": "code",
   "execution_count": 21,
   "metadata": {},
   "outputs": [
    {
     "name": "stdout",
     "output_type": "stream",
     "text": [
      "[INFO] evaluating network...\n",
      "              precision    recall  f1-score   support\n",
      "\n",
      "         cat       0.55      0.57      0.56       268\n",
      "         dog       0.71      0.50      0.59       381\n",
      "       panda       0.71      0.92      0.80       319\n",
      "\n",
      "    accuracy                           0.66       968\n",
      "   macro avg       0.66      0.67      0.65       968\n",
      "weighted avg       0.66      0.66      0.65       968\n",
      "\n"
     ]
    }
   ],
   "source": [
    "print(\"[INFO] evaluating network...\")\n",
    "predictions = model.predict(testX, batch_size=32)\n",
    "print(classification_report(testY.argmax(axis=1),\n",
    "        predictions.argmax(axis=1),\n",
    "        target_names = [\"cat\", \"dog\", \"panda\"]))"
   ]
  },
  {
   "cell_type": "code",
   "execution_count": 22,
   "metadata": {},
   "outputs": [
    {
     "data": {
      "image/png": "[encoded data removed]",
      "text/plain": [
       "<Figure size 432x288 with 1 Axes>"
      ]
     },
     "metadata": {},
     "output_type": "display_data"
    }
   ],
   "source": [
    "plt.style.use(\"ggplot\")\n",
    "plt.figure()\n",
    "plt.plot(np.arange(0, 100), H.history[\"loss\"], label=\"train_loss\")\n",
    "plt.plot(np.arange(0, 100), H.history[\"val_loss\"], label=\"val_loss\")\n",
    "plt.plot(np.arange(0, 100), H.history[\"accuracy\"], label=\"train_acc\")\n",
    "plt.plot(np.arange(0, 100), H.history[\"val_accuracy\"], label=\"val_acc\")\n",
    "plt.title(\"Training Loss and Accuracy\")\n",
    "plt.xlabel(\"Epoch #\")\n",
    "plt.ylabel(\"Loss/Accuracy\")\n",
    "plt.legend()\n",
    "plt.show()"
   ]
  },
  {
   "cell_type": "code",
   "execution_count": null,
   "metadata": {},
   "outputs": [],
   "source": []
  },
  {
   "cell_type": "code",
   "execution_count": null,
   "metadata": {},
   "outputs": [],
   "source": [
    "from keras.datasets import cifar10"
   ]
  },
  {
   "cell_type": "code",
   "execution_count": null,
   "metadata": {},
   "outputs": [],
   "source": [
    "print(\"[INFO] loading CIFAR-10 data...\")\n",
    "((trainX, trainY), (testX, testY)) = cifar10.load_data()\n",
    "trainX = trainX.astype(\"float\") / 255.0\n",
    "testX = testX.astype(\"float\") / 255.0"
   ]
  },
  {
   "cell_type": "code",
   "execution_count": null,
   "metadata": {},
   "outputs": [],
   "source": [
    "lb = LabelBinarizer()\n",
    "trainY = lb.fit_transform(trainY)\n",
    "testY = lb.transform(testY)\n",
    "labelNames = [\"airplane\", \"automobile\", \"bird\", \"cat\", \"deer\",\n",
    "                  \"dog\", \"frog\", \"horse\", \"ship\", \"truck\"]"
   ]
  },
  {
   "cell_type": "code",
   "execution_count": null,
   "metadata": {},
   "outputs": [],
   "source": [
    "print(\"[INFO] compiling model...\")\n",
    "opt = SGD(lr=0.01)\n",
    "model = ShallowNet.build(width=32, height=32, depth=3, classes=10)\n",
    "model.compile(loss=\"categorical_crossentropy\", optimizer=opt,\n",
    "        metrics = [\"accuracy\"])"
   ]
  },
  {
   "cell_type": "code",
   "execution_count": null,
   "metadata": {},
   "outputs": [],
   "source": [
    "print(\"[INFO] training network...\")\n",
    "H = model.fit(trainX, trainY, validation_data=(testX, testY),\n",
    "        batch_size = 32, epochs = 40, verbose = 1)"
   ]
  },
  {
   "cell_type": "code",
   "execution_count": null,
   "metadata": {},
   "outputs": [],
   "source": [
    "print(\"[INFO] evaluating network...\")\n",
    "predictions = model.predict(testX, batch_size=32)\n",
    "print(classification_report(testY.argmax(axis=1),\n",
    "        predictions.argmax(axis=1), target_names = labelNames))"
   ]
  },
  {
   "cell_type": "code",
   "execution_count": null,
   "metadata": {},
   "outputs": [],
   "source": [
    "plt.style.use(\"ggplot\")\n",
    "plt.figure()\n",
    "plt.plot(np.arange(0, 40), H.history[\"loss\"], label=\"train_loss\")\n",
    "plt.plot(np.arange(0, 40), H.history[\"val_loss\"], label=\"val_loss\")\n",
    "\n",
    "plt.plot(np.arange(0, 40), H.history[\"accuracy\"], label=\"train_acc\")\n",
    "plt.plot(np.arange(0, 40), H.history[\"val_accuracy\"], label=\"val_acc\")\n",
    "plt.title(\"Training Loss and Accuracy\")\n",
    "plt.xlabel(\"Epoch #\")\n",
    "plt.ylabel(\"Loss/Accuracy\")\n",
    "plt.legend()\n",
    "plt.show()"
   ]
  },
  {
   "cell_type": "code",
   "execution_count": null,
   "metadata": {},
   "outputs": [],
   "source": []
  }
 ],
 "metadata": {
  "kernelspec": {
   "display_name": "mxnet",
   "language": "python",
   "name": "mxnet"
  },
  "language_info": {
   "codemirror_mode": {
    "name": "ipython",
    "version": 3
   },
   "file_extension": ".py",
   "mimetype": "text/x-python",
   "name": "python",
   "nbconvert_exporter": "python",
   "pygments_lexer": "ipython3",
   "version": "3.7.6"
  }
 },
 "nbformat": 4,
 "nbformat_minor": 4
}
